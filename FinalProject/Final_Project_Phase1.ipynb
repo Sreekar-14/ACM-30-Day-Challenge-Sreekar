{
 "cells": [
  {
   "cell_type": "code",
   "execution_count": 3,
   "id": "65ce9d99-ce80-45c6-bf6f-22ad0a3f33da",
   "metadata": {},
   "outputs": [],
   "source": [
    "# Cell 1 — Imports & config (edit DATA_PATH if needed)\n",
    "import os\n",
    "import pandas as pd\n",
    "import numpy as np\n",
    "from sklearn.preprocessing import OneHotEncoder, StandardScaler\n",
    "from sklearn.model_selection import train_test_split\n",
    "from sklearn.metrics import accuracy_score, precision_score, recall_score, f1_score\n",
    "import joblib\n",
    "\n",
    "# PyTorch\n",
    "import torch\n",
    "import torch.nn as nn\n",
    "import torch.optim as optim\n",
    "from torch.utils.data import TensorDataset, DataLoader\n",
    "\n",
    "# Config — change DATA_PATH to your CSV filename if different\n",
    "DATA_PATH = r\"C:\\Users\\sreek\\Downloads\\HR_Engagement_Survey_Data_with_Question_Details.csv\"\n",
    "DROP_THRESHOLD = 30       # minutes threshold used in the rule\n",
    "RANDOM_STATE = 42\n",
    "BATCH_SIZE = 256\n",
    "EPOCHS = 20\n",
    "LR = 1e-3\n",
    "\n",
    "# Reproducibility\n",
    "np.random.seed(RANDOM_STATE)\n",
    "torch.manual_seed(RANDOM_STATE)\n",
    "if torch.cuda.is_available():\n",
    "    torch.cuda.manual_seed_all(RANDOM_STATE)\n"
   ]
  },
  {
   "cell_type": "code",
   "execution_count": 4,
   "id": "0abb3d63-d089-4502-a239-61fd167549e6",
   "metadata": {},
   "outputs": [
    {
     "name": "stdout",
     "output_type": "stream",
     "text": [
      "Loaded: C:\\Users\\sreek\\Downloads\\HR_Engagement_Survey_Data_with_Question_Details.csv\n",
      "Shape: (132549, 12)\n"
     ]
    },
    {
     "data": {
      "text/html": [
       "<div>\n",
       "<style scoped>\n",
       "    .dataframe tbody tr th:only-of-type {\n",
       "        vertical-align: middle;\n",
       "    }\n",
       "\n",
       "    .dataframe tbody tr th {\n",
       "        vertical-align: top;\n",
       "    }\n",
       "\n",
       "    .dataframe thead th {\n",
       "        text-align: right;\n",
       "    }\n",
       "</style>\n",
       "<table border=\"1\" class=\"dataframe\">\n",
       "  <thead>\n",
       "    <tr style=\"text-align: right;\">\n",
       "      <th></th>\n",
       "      <th>Year</th>\n",
       "      <th>Status</th>\n",
       "      <th>Role</th>\n",
       "      <th>Department</th>\n",
       "      <th>Director</th>\n",
       "      <th>Manager</th>\n",
       "      <th>Supervisor</th>\n",
       "      <th>Lead</th>\n",
       "      <th>Staff</th>\n",
       "      <th>Question</th>\n",
       "      <th>Answer_Numeric</th>\n",
       "      <th>Answer_Text</th>\n",
       "    </tr>\n",
       "  </thead>\n",
       "  <tbody>\n",
       "    <tr>\n",
       "      <th>0</th>\n",
       "      <td>2020 Jun</td>\n",
       "      <td>Complete</td>\n",
       "      <td>Staff</td>\n",
       "      <td>Human Services</td>\n",
       "      <td>False</td>\n",
       "      <td>False</td>\n",
       "      <td>False</td>\n",
       "      <td>False</td>\n",
       "      <td>True</td>\n",
       "      <td>07. At work, my opinions seem to count.</td>\n",
       "      <td>3</td>\n",
       "      <td>Agree</td>\n",
       "    </tr>\n",
       "    <tr>\n",
       "      <th>1</th>\n",
       "      <td>2020 Jun</td>\n",
       "      <td>Complete</td>\n",
       "      <td>Staff</td>\n",
       "      <td>District Court</td>\n",
       "      <td>False</td>\n",
       "      <td>False</td>\n",
       "      <td>False</td>\n",
       "      <td>False</td>\n",
       "      <td>True</td>\n",
       "      <td>07. At work, my opinions seem to count.</td>\n",
       "      <td>3</td>\n",
       "      <td>Agree</td>\n",
       "    </tr>\n",
       "    <tr>\n",
       "      <th>2</th>\n",
       "      <td>2020 Jun</td>\n",
       "      <td>Complete</td>\n",
       "      <td>Staff</td>\n",
       "      <td>Superior Court</td>\n",
       "      <td>False</td>\n",
       "      <td>False</td>\n",
       "      <td>False</td>\n",
       "      <td>False</td>\n",
       "      <td>True</td>\n",
       "      <td>07. At work, my opinions seem to count.</td>\n",
       "      <td>3</td>\n",
       "      <td>Agree</td>\n",
       "    </tr>\n",
       "    <tr>\n",
       "      <th>3</th>\n",
       "      <td>2021 May</td>\n",
       "      <td>Complete</td>\n",
       "      <td>Lead</td>\n",
       "      <td>Human Services</td>\n",
       "      <td>False</td>\n",
       "      <td>False</td>\n",
       "      <td>False</td>\n",
       "      <td>True</td>\n",
       "      <td>False</td>\n",
       "      <td>07. At work, my opinions seem to count.</td>\n",
       "      <td>3</td>\n",
       "      <td>Agree</td>\n",
       "    </tr>\n",
       "    <tr>\n",
       "      <th>4</th>\n",
       "      <td>2019 May</td>\n",
       "      <td>Partial</td>\n",
       "      <td>NaN</td>\n",
       "      <td>NaN</td>\n",
       "      <td>False</td>\n",
       "      <td>False</td>\n",
       "      <td>False</td>\n",
       "      <td>False</td>\n",
       "      <td>False</td>\n",
       "      <td>01. I know what is expected of me at work.</td>\n",
       "      <td>0</td>\n",
       "      <td>NaN</td>\n",
       "    </tr>\n",
       "  </tbody>\n",
       "</table>\n",
       "</div>"
      ],
      "text/plain": [
       "       Year    Status   Role      Department Director Manager  Supervisor  \\\n",
       "0  2020 Jun  Complete  Staff  Human Services    False   False       False   \n",
       "1  2020 Jun  Complete  Staff  District Court    False   False       False   \n",
       "2  2020 Jun  Complete  Staff  Superior Court    False   False       False   \n",
       "3  2021 May  Complete   Lead  Human Services    False   False       False   \n",
       "4  2019 May   Partial    NaN             NaN    False   False       False   \n",
       "\n",
       "    Lead  Staff                                    Question  Answer_Numeric  \\\n",
       "0  False   True     07. At work, my opinions seem to count.               3   \n",
       "1  False   True     07. At work, my opinions seem to count.               3   \n",
       "2  False   True     07. At work, my opinions seem to count.               3   \n",
       "3   True  False     07. At work, my opinions seem to count.               3   \n",
       "4  False  False  01. I know what is expected of me at work.               0   \n",
       "\n",
       "  Answer_Text  \n",
       "0       Agree  \n",
       "1       Agree  \n",
       "2       Agree  \n",
       "3       Agree  \n",
       "4         NaN  "
      ]
     },
     "metadata": {},
     "output_type": "display_data"
    },
    {
     "name": "stdout",
     "output_type": "stream",
     "text": [
      "Columns: ['Year', 'Status', 'Role', 'Department', 'Director', 'Manager', 'Supervisor', 'Lead', 'Staff', 'Question', 'Answer_Numeric', 'Answer_Text']\n",
      "Mood Before Workout: MISSING\n",
      "Mood After Workout: MISSING\n",
      "Workout Intensity: MISSING\n",
      "Workout Duration (mins): MISSING\n"
     ]
    }
   ],
   "source": [
    "# Cell 2 — Load the data (robustly) and show a quick snapshot\n",
    "if not os.path.exists(DATA_PATH):\n",
    "    raise FileNotFoundError(f\"{DATA_PATH} not found. Upload the file to the notebook or change DATA_PATH.\")\n",
    "\n",
    "# read with low_memory=False to avoid mixed-type chunk warnings\n",
    "df = pd.read_csv(DATA_PATH, low_memory=False)\n",
    "print(\"Loaded:\", DATA_PATH)\n",
    "print(\"Shape:\", df.shape)\n",
    "display(df.head())\n",
    "print(\"Columns:\", df.columns.tolist())\n",
    "\n",
    "# Helpful check: show if required columns exist for the rule\n",
    "required_cols = ['Mood Before Workout', 'Mood After Workout', 'Workout Intensity', 'Workout Duration (mins)']\n",
    "for c in required_cols:\n",
    "    print(f\"{c}: {'FOUND' if c in df.columns else 'MISSING'}\")\n"
   ]
  },
  {
   "cell_type": "code",
   "execution_count": 5,
   "id": "4aaac181-1c7d-488c-9ce6-40ab8717a72f",
   "metadata": {},
   "outputs": [
    {
     "name": "stdout",
     "output_type": "stream",
     "text": [
      "Dropout label counts:\n",
      "dropout\n",
      "0    132549\n",
      "Name: count, dtype: int64\n"
     ]
    }
   ],
   "source": [
    "# Cell 3 — Create the rule-based dropout label (safe to run even if some columns are missing)\n",
    "def generate_dropout_label(row, threshold=DROP_THRESHOLD):\n",
    "    before = str(row.get('Mood Before Workout', '')).strip()\n",
    "    after = str(row.get('Mood After Workout', '')).strip()\n",
    "    intensity = str(row.get('Workout Intensity', '')).strip()\n",
    "    dur_raw = row.get('Workout Duration (mins)', '')\n",
    "    try:\n",
    "        duration = float(str(dur_raw).strip()) if str(dur_raw).strip() != '' else np.nan\n",
    "    except:\n",
    "        duration = np.nan\n",
    "\n",
    "    # Your rule:\n",
    "    if (\n",
    "        before in ['Tired', 'Stressed'] and\n",
    "        after in ['Fatigued', 'Neutral'] and\n",
    "        intensity in ['Low'] and\n",
    "        (not np.isnan(duration)) and\n",
    "        duration < threshold\n",
    "    ):\n",
    "        return 1\n",
    "    return 0\n",
    "\n",
    "# Apply and inspect distribution\n",
    "df['dropout'] = df.apply(generate_dropout_label, axis=1)\n",
    "print(\"Dropout label counts:\")\n",
    "print(df['dropout'].value_counts(dropna=False))\n"
   ]
  },
  {
   "cell_type": "code",
   "execution_count": 6,
   "id": "64c870a7-c2fd-44c4-940e-9261c32cbcb0",
   "metadata": {},
   "outputs": [
    {
     "name": "stdout",
     "output_type": "stream",
     "text": [
      "Categorical cols (converted to str): ['Year', 'Status', 'Role', 'Department', 'Director', 'Manager', 'Supervisor', 'Lead', 'Staff', 'Question', 'Answer_Text']\n",
      "Numeric-ish cols (will be coerced): ['Answer_Numeric'] ... (total 1 )\n",
      "After coercion: any NaNs left (numeric)? False\n"
     ]
    }
   ],
   "source": [
    "# Cell 4 — Preprocessing: separate features & target, handle mixed types (robust)\n",
    "# NOTE: we convert categorical columns to strings to avoid OneHotEncoder mixed-type errors\n",
    "\n",
    "# Features / target\n",
    "X = df.drop(columns=['dropout']).copy()\n",
    "y = df['dropout'].astype(int).copy()\n",
    "\n",
    "# Identify categorical and numeric columns\n",
    "categorical_cols = X.select_dtypes(include=['object', 'category', 'bool']).columns.tolist()\n",
    "# treat everything else as numeric-ish; we'll coerce to numeric\n",
    "numeric_cols = [c for c in X.columns if c not in categorical_cols]\n",
    "\n",
    "print(\"Categorical cols (converted to str):\", categorical_cols)\n",
    "print(\"Numeric-ish cols (will be coerced):\", numeric_cols[:10], \"... (total\", len(numeric_cols), \")\")\n",
    "\n",
    "# Convert categorical columns to string (prevents 'bool' vs 'str' mix errors)\n",
    "if len(categorical_cols) > 0:\n",
    "    X[categorical_cols] = X[categorical_cols].astype(str).fillna('')\n",
    "\n",
    "# Coerce numeric-ish columns to numeric (non-convertible -> NaN), then fill NaNs\n",
    "for col in numeric_cols:\n",
    "    X[col] = pd.to_numeric(X[col], errors='coerce')\n",
    "# Replace numeric NaNs with 0 (or median if you prefer)\n",
    "X[numeric_cols] = X[numeric_cols].fillna(0.0)\n",
    "\n",
    "print(\"After coercion: any NaNs left (numeric)?\", X[numeric_cols].isna().any().any())\n"
   ]
  },
  {
   "cell_type": "code",
   "execution_count": 7,
   "id": "c6c2a82d-5ce2-4076-8269-1e82bb9f5404",
   "metadata": {},
   "outputs": [
    {
     "name": "stdout",
     "output_type": "stream",
     "text": [
      "Processed feature matrix shape: (132549, 77)\n"
     ]
    }
   ],
   "source": [
    "# Cell 5 — Encode categorical features and scale numeric features (robust to sklearn versions)\n",
    "# OneHotEncoder parameter name changed between sklearn versions; try both.\n",
    "if len(categorical_cols) > 0:\n",
    "    try:\n",
    "        encoder = OneHotEncoder(sparse_output=False, handle_unknown='ignore')\n",
    "    except TypeError:\n",
    "        encoder = OneHotEncoder(sparse=False, handle_unknown='ignore')\n",
    "    X_cat = encoder.fit_transform(X[categorical_cols])\n",
    "else:\n",
    "    encoder = None\n",
    "    X_cat = np.empty((len(X), 0))\n",
    "\n",
    "# Scale numeric features\n",
    "if len(numeric_cols) > 0:\n",
    "    scaler = StandardScaler()\n",
    "    X_num = scaler.fit_transform(X[numeric_cols])\n",
    "else:\n",
    "    scaler = None\n",
    "    X_num = np.empty((len(X), 0))\n",
    "\n",
    "# Combine numeric + categorical\n",
    "X_processed = np.hstack([X_num, X_cat])\n",
    "print(\"Processed feature matrix shape:\", X_processed.shape)\n",
    "\n",
    "# Save column lists so you can reuse the encoder/scaler later\n",
    "feature_info = {\n",
    "    'numeric_cols': numeric_cols,\n",
    "    'categorical_cols': categorical_cols\n",
    "}\n"
   ]
  },
  {
   "cell_type": "code",
   "execution_count": 8,
   "id": "6fefe8f6-c70c-4623-87c9-92ee261c837d",
   "metadata": {},
   "outputs": [
    {
     "name": "stdout",
     "output_type": "stream",
     "text": [
      "Train shape: (106039, 77) Test shape: (26510, 77)\n"
     ]
    }
   ],
   "source": [
    "# Cell 6 — Train / Test split (stratified if both classes present)\n",
    "stratify = y if y.nunique() > 1 else None\n",
    "X_train, X_test, y_train, y_test = train_test_split(\n",
    "    X_processed, y, test_size=0.2, random_state=RANDOM_STATE, stratify=stratify\n",
    ")\n",
    "print(\"Train shape:\", X_train.shape, \"Test shape:\", X_test.shape)\n"
   ]
  },
  {
   "cell_type": "code",
   "execution_count": 9,
   "id": "f77ddd73-45fe-4af6-9dd5-074c1a9f699d",
   "metadata": {},
   "outputs": [
    {
     "name": "stdout",
     "output_type": "stream",
     "text": [
      "Using device: cpu\n"
     ]
    }
   ],
   "source": [
    "# Cell 7 — Prepare PyTorch DataLoader\n",
    "device = torch.device('cuda' if torch.cuda.is_available() else 'cpu')\n",
    "print(\"Using device:\", device)\n",
    "\n",
    "X_train_tensor = torch.tensor(X_train, dtype=torch.float32).to(device)\n",
    "y_train_tensor = torch.tensor(y_train.values, dtype=torch.float32).view(-1, 1).to(device)\n",
    "X_test_tensor = torch.tensor(X_test, dtype=torch.float32).to(device)\n",
    "y_test_tensor = torch.tensor(y_test.values, dtype=torch.float32).view(-1, 1).to(device)\n",
    "\n",
    "train_ds = TensorDataset(X_train_tensor, y_train_tensor)\n",
    "train_loader = DataLoader(train_ds, batch_size=BATCH_SIZE, shuffle=True)\n"
   ]
  },
  {
   "cell_type": "code",
   "execution_count": 10,
   "id": "3ef6bcb2-08da-41c4-8d78-d3be159f1c68",
   "metadata": {},
   "outputs": [
    {
     "name": "stdout",
     "output_type": "stream",
     "text": [
      "MLP(\n",
      "  (net): Sequential(\n",
      "    (0): Linear(in_features=77, out_features=64, bias=True)\n",
      "    (1): ReLU()\n",
      "    (2): Linear(in_features=64, out_features=32, bias=True)\n",
      "    (3): ReLU()\n",
      "    (4): Linear(in_features=32, out_features=1, bias=True)\n",
      "    (5): Sigmoid()\n",
      "  )\n",
      ")\n"
     ]
    }
   ],
   "source": [
    "# Cell 8 — Define the MLP (ReLU hidden layers, Sigmoid output as requested)\n",
    "class MLP(nn.Module):\n",
    "    def __init__(self, input_dim):\n",
    "        super(MLP, self).__init__()\n",
    "        self.net = nn.Sequential(\n",
    "            nn.Linear(input_dim, 64),\n",
    "            nn.ReLU(),\n",
    "            nn.Linear(64, 32),\n",
    "            nn.ReLU(),\n",
    "            nn.Linear(32, 1),\n",
    "            nn.Sigmoid()   # returns probability\n",
    "        )\n",
    "    def forward(self, x):\n",
    "        return self.net(x)\n",
    "\n",
    "model = MLP(X_train.shape[1]).to(device)\n",
    "criterion = nn.BCELoss()   # because we use Sigmoid above\n",
    "optimizer = optim.Adam(model.parameters(), lr=LR)\n",
    "\n",
    "print(model)\n"
   ]
  },
  {
   "cell_type": "code",
   "execution_count": 11,
   "id": "3b58a2cf-af26-4e9b-a702-ad8de04c40ae",
   "metadata": {},
   "outputs": [
    {
     "name": "stdout",
     "output_type": "stream",
     "text": [
      "Epoch 1/20 — loss: 0.0489\n",
      "Epoch 5/20 — loss: 0.0000\n",
      "Epoch 10/20 — loss: 0.0000\n",
      "Epoch 15/20 — loss: 0.0000\n",
      "Epoch 20/20 — loss: 0.0000\n"
     ]
    }
   ],
   "source": [
    "# Cell 9 — Training loop (prints progress)\n",
    "for epoch in range(1, EPOCHS + 1):\n",
    "    model.train()\n",
    "    running_loss = 0.0\n",
    "    for xb, yb in train_loader:\n",
    "        optimizer.zero_grad()\n",
    "        preds = model(xb)\n",
    "        loss = criterion(preds, yb)\n",
    "        loss.backward()\n",
    "        optimizer.step()\n",
    "        running_loss += loss.item() * xb.size(0)\n",
    "    epoch_loss = running_loss / len(train_loader.dataset)\n",
    "    if epoch % 5 == 0 or epoch == 1 or epoch == EPOCHS:\n",
    "        print(f\"Epoch {epoch}/{EPOCHS} — loss: {epoch_loss:.4f}\")\n"
   ]
  },
  {
   "cell_type": "code",
   "execution_count": null,
   "id": "24bf3f01-9eb1-4afe-9720-02af3613d63b",
   "metadata": {},
   "outputs": [],
   "source": [
    "# Cell 10 — Evaluate on test set (Accuracy, Precision, Recall, F1)\n",
    "model.eval()\n",
    "with torch.no_grad():\n",
    "    # predict in batches to avoid memory issues\n",
    "    probs = []\n",
    "    start = 0\n",
    "    while start < X_test.shape[0]:\n",
    "        end = start + BATCH_SIZE\n",
    "        xb = torch.tensor(X_test[start:end], dtype=torch.float32).to(device)\n",
    "        p = model(xb).cpu().numpy().flatten()\n",
    "        probs.extend(p)\n",
    "        start = end\n",
    "    probs = np.array(probs)\n",
    "preds = (probs >= 0.5).astype(int)\n",
    "y_true = y_test.values.astype(int)\n",
    "\n",
    "acc = accuracy_score(y_true, preds)\n",
    "prec = precision_score(y_true, preds, zero_division=0)\n",
    "rec = recall_score(y_true, preds, zero_division=0)\n",
    "f1 = f1_score(y_true, preds, zero_division=0)\n",
    "\n",
    "print(\"\\nTest performance:\")\n",
    "print(f\"Accuracy : {acc:.4f}\")\n",
    "print(f\"Precision: {prec:.4f}\")\n",
    "print(f\"Recall   : {rec:.4f}\")\n",
    "print(f\"F1 score : {f1:.4f}\")\n"
   ]
  },
  {
   "cell_type": "code",
   "execution_count": null,
   "id": "085fa714-0903-4b4c-9508-33499d574001",
   "metadata": {},
   "outputs": [],
   "source": [
    "# Cell 11 — Save model + preprocessing artifacts (optional)\n",
    "torch.save(model.state_dict(), \"dropout_mlp_state.pth\")\n",
    "joblib.dump({'encoder': encoder, 'scaler': scaler, 'feature_info': feature_info}, \"preprocessing_artifacts.joblib\")\n",
    "print(\"Saved model and preprocessing_artifacts.joblib\")\n"
   ]
  },
  {
   "cell_type": "code",
   "execution_count": null,
   "id": "f88c9e00-4e4f-4139-8627-81047357234c",
   "metadata": {},
   "outputs": [],
   "source": [
    "# OPTIONAL Cell 12 — sklearn fallback (no PyTorch required)\n",
    "# Run this cell if you prefer to train an sklearn MLPClassifier instead of the PyTorch model.\n",
    "from sklearn.neural_network import MLPClassifier\n",
    "clf = MLPClassifier(hidden_layer_sizes=(64,32), activation='relu', solver='adam', max_iter=300, random_state=RANDOM_STATE)\n",
    "clf.fit(X_train, y_train)\n",
    "y_skl = clf.predict(X_test)\n",
    "print(\"sklearn MLP — Accuracy:\", accuracy_score(y_test, y_skl),\n",
    "      \"Precision:\", precision_score(y_test, y_skl, zero_division=0),\n",
    "      \"Recall:\", recall_score(y_test, y_skl, zero_division=0),\n",
    "      \"F1:\", f1_score(y_test, y_skl, zero_division=0))\n"
   ]
  },
  {
   "cell_type": "code",
   "execution_count": null,
   "id": "c7dc1a42-6147-4746-9a99-80880c5de06b",
   "metadata": {},
   "outputs": [],
   "source": []
  }
 ],
 "metadata": {
  "kernelspec": {
   "display_name": "Python 3 (ipykernel)",
   "language": "python",
   "name": "python3"
  },
  "language_info": {
   "codemirror_mode": {
    "name": "ipython",
    "version": 3
   },
   "file_extension": ".py",
   "mimetype": "text/x-python",
   "name": "python",
   "nbconvert_exporter": "python",
   "pygments_lexer": "ipython3",
   "version": "3.12.5"
  }
 },
 "nbformat": 4,
 "nbformat_minor": 5
}
