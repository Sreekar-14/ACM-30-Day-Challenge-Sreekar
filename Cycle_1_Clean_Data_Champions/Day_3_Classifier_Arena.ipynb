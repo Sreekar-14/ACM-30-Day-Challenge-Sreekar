{
 "cells": [
  {
   "cell_type": "code",
   "execution_count": 1,
   "id": "88553af4-4eff-4c3e-8b0f-84607bb41651",
   "metadata": {},
   "outputs": [],
   "source": [
    "import pandas as pd\n",
    "from sklearn.model_selection import train_test_split\n",
    "from sklearn.preprocessing import LabelEncoder, StandardScaler\n",
    "from sklearn.linear_model import LogisticRegression\n",
    "from sklearn.discriminant_analysis import LinearDiscriminantAnalysis\n",
    "from sklearn.metrics import accuracy_score, confusion_matrix, roc_auc_score, roc_curve\n",
    "import matplotlib.pyplot as plt\n"
   ]
  },
  {
   "cell_type": "code",
   "execution_count": 3,
   "id": "a5717fc6-600f-4f36-8db6-02f5137493ef",
   "metadata": {},
   "outputs": [
    {
     "name": "stdout",
     "output_type": "stream",
     "text": [
      "      Age      Gender    Country            JobRole Department  \\\n",
      "0      50        Male         UK    Sales Associate         HR   \n",
      "1      36        Male    Germany  Software Engineer         IT   \n",
      "2      29  Non-binary      India           IT Admin         IT   \n",
      "3      42        Male  Australia      HR Specialist         IT   \n",
      "4      40        Male     Brazil   Customer Support    Support   \n",
      "...   ...         ...        ...                ...        ...   \n",
      "2995   28      Female     Brazil  Marketing Manager      Sales   \n",
      "2996   24        Male     Brazil   Customer Support  Marketing   \n",
      "2997   22      Female     Canada  Marketing Manager  Marketing   \n",
      "2998   57  Non-binary  Australia     Data Scientist         HR   \n",
      "2999   46  Non-binary      India  Software Engineer         IT   \n",
      "\n",
      "      YearsAtCompany  WorkHoursPerWeek RemoteWork  BurnoutLevel  \\\n",
      "0                 14                47         No          3.37   \n",
      "1                  1                59     Hybrid          7.39   \n",
      "2                 13                59     Hybrid          7.10   \n",
      "3                 15                31        Yes          4.18   \n",
      "4                  6                34        Yes          8.28   \n",
      "...              ...               ...        ...           ...   \n",
      "2995              18                46         No          2.86   \n",
      "2996              14                31         No          2.43   \n",
      "2997               0                38         No          6.87   \n",
      "2998               2                41         No          3.62   \n",
      "2999              17                48         No          9.77   \n",
      "\n",
      "      JobSatisfaction  ...  CommuteTime  HasMentalHealthSupport  \\\n",
      "0                5.06  ...          117                      No   \n",
      "1                2.00  ...            8                     Yes   \n",
      "2                7.17  ...           75                      No   \n",
      "3                3.76  ...           43                     Yes   \n",
      "4                2.34  ...           58                     Yes   \n",
      "...               ...  ...          ...                     ...   \n",
      "2995             5.18  ...            4                     Yes   \n",
      "2996             3.68  ...            1                     Yes   \n",
      "2997             7.53  ...           25                      No   \n",
      "2998             9.21  ...           24                      No   \n",
      "2999             4.71  ...           49                      No   \n",
      "\n",
      "      ManagerSupportScore  HasTherapyAccess  MentalHealthDaysOff SalaryRange  \\\n",
      "0                    3.15               Yes                    8     40K-60K   \n",
      "1                    4.40               Yes                    4    80K-100K   \n",
      "2                    3.63                No                    6    80K-100K   \n",
      "3                    4.50               Yes                    9     60K-80K   \n",
      "4                    5.51               Yes                    6        <40K   \n",
      "...                   ...               ...                  ...         ...   \n",
      "2995                 6.97                No                    1    80K-100K   \n",
      "2996                 5.58               Yes                    0     60K-80K   \n",
      "2997                 3.81                No                    0     40K-60K   \n",
      "2998                 9.72                No                    3       100K+   \n",
      "2999                 8.21                No                    7     60K-80K   \n",
      "\n",
      "      WorkLifeBalanceScore TeamSize  CareerGrowthScore BurnoutRisk  \n",
      "0                     8.82        6               9.20           0  \n",
      "1                     2.80       45               8.46           1  \n",
      "2                     7.28        7               7.96           1  \n",
      "3                     1.31       11               8.90           0  \n",
      "4                     1.17       18               8.88           1  \n",
      "...                    ...      ...                ...         ...  \n",
      "2995                  7.71       21               7.70           0  \n",
      "2996                  3.76        2               2.59           0  \n",
      "2997                  3.03        2               6.95           0  \n",
      "2998                  6.02       37               9.06           0  \n",
      "2999                  7.89       37               1.09           1  \n",
      "\n",
      "[3000 rows x 24 columns]\n"
     ]
    }
   ],
   "source": [
    "df = pd.read_csv(r\"C:\\Users\\sreek\\OneDrive\\Desktop\\ACM\\mental_health_workplace_survey.csv\")\n",
    "df = df.drop(columns=[\"EmployeeID\"])\n",
    "print(df)"
   ]
  },
  {
   "cell_type": "code",
   "execution_count": 4,
   "id": "579aa58a-98dc-4ac1-ad3b-d45cc088fa31",
   "metadata": {},
   "outputs": [],
   "source": [
    "categorical_cols = df.select_dtypes(include='object').columns\n",
    "label_encoders = {}\n",
    "for col in categorical_cols:\n",
    "    le = LabelEncoder()\n",
    "    df[col] = le.fit_transform(df[col])\n",
    "    label_encoders[col] = le    "
   ]
  },
  {
   "cell_type": "code",
   "execution_count": 5,
   "id": "4da36670-e7a2-414a-9140-c4f9588a3b07",
   "metadata": {},
   "outputs": [],
   "source": [
    "X = df.drop(columns=[\"BurnoutRisk\"])\n",
    "y = df[\"BurnoutRisk\"]"
   ]
  },
  {
   "cell_type": "code",
   "execution_count": 6,
   "id": "a13108d7-8e93-4dc1-ba63-c294292277a7",
   "metadata": {},
   "outputs": [],
   "source": [
    "X_train, X_test, y_train, y_test = train_test_split(X, y, test_size=0.2, random_state=42)\n"
   ]
  },
  {
   "cell_type": "code",
   "execution_count": 7,
   "id": "88c96054-b45a-40dd-baef-b3e2bec50729",
   "metadata": {},
   "outputs": [],
   "source": [
    "scaler = StandardScaler()\n",
    "X_train_scaled = scaler.fit_transform(X_train)\n",
    "X_test_scaled = scaler.transform(X_test)"
   ]
  },
  {
   "cell_type": "code",
   "execution_count": 8,
   "id": "56c84771-7691-45d1-a05e-c6cbdd775540",
   "metadata": {},
   "outputs": [],
   "source": [
    "log_reg = LogisticRegression()\n",
    "log_reg.fit(X_train_scaled, y_train)\n",
    "y_pred_log = log_reg.predict(X_test_scaled)\n",
    "y_prob_log = log_reg.predict_proba(X_test_scaled)[:, 1]\n"
   ]
  },
  {
   "cell_type": "code",
   "execution_count": 9,
   "id": "7605376d-31a3-435b-be5a-513b177d29a2",
   "metadata": {},
   "outputs": [],
   "source": [
    "lda = LinearDiscriminantAnalysis()\n",
    "lda.fit(X_train_scaled, y_train)\n",
    "y_pred_lda = lda.predict(X_test_scaled)\n",
    "y_prob_lda = lda.predict_proba(X_test_scaled)[:, 1]"
   ]
  },
  {
   "cell_type": "code",
   "execution_count": 10,
   "id": "37021de5-24e9-4c45-9303-3322b607fc5c",
   "metadata": {},
   "outputs": [
    {
     "name": "stdout",
     "output_type": "stream",
     "text": [
      "Logistic Regression\n",
      "Accuracy: 0.9966666666666667\n",
      "Confusion Matrix:\n",
      " [[397   2]\n",
      " [  0 201]]\n",
      "ROC AUC: 0.9999127171161735\n",
      "\n",
      "Linear Discriminant Analysis\n",
      "Accuracy: 0.95\n",
      "Confusion Matrix:\n",
      " [[369  30]\n",
      " [  0 201]]\n",
      "ROC AUC: 0.9997506203319243\n"
     ]
    }
   ],
   "source": [
    "print(\"Logistic Regression\")\n",
    "print(\"Accuracy:\", accuracy_score(y_test, y_pred_log))\n",
    "print(\"Confusion Matrix:\\n\", confusion_matrix(y_test, y_pred_log))\n",
    "print(\"ROC AUC:\", roc_auc_score(y_test, y_prob_log))\n",
    "\n",
    "print(\"\\nLinear Discriminant Analysis\")\n",
    "print(\"Accuracy:\", accuracy_score(y_test, y_pred_lda))\n",
    "print(\"Confusion Matrix:\\n\", confusion_matrix(y_test, y_pred_lda))\n",
    "print(\"ROC AUC:\", roc_auc_score(y_test, y_prob_lda))"
   ]
  },
  {
   "cell_type": "code",
   "execution_count": 11,
   "id": "a26b22f6-e38f-475e-aa53-4404f9470efe",
   "metadata": {},
   "outputs": [
    {
     "data": {
      "image/png": "[encoded data removed]",
      "text/plain": [
       "<Figure size 800x600 with 1 Axes>"
      ]
     },
     "metadata": {},
     "output_type": "display_data"
    }
   ],
   "source": [
    "fpr_log, tpr_log, _ = roc_curve(y_test, y_prob_log)\n",
    "fpr_lda, tpr_lda, _ = roc_curve(y_test, y_prob_lda)\n",
    "\n",
    "plt.figure(figsize=(8, 6))\n",
    "plt.plot(fpr_log, tpr_log, label=f'Logistic Regression (AUC = {roc_auc_score(y_test, y_prob_log):.2f})')\n",
    "plt.plot(fpr_lda, tpr_lda, label=f'LDA (AUC = {roc_auc_score(y_test, y_prob_lda):.2f})')\n",
    "plt.plot([0, 1], [0, 1], 'k--', label='Random Classifier')\n",
    "\n",
    "plt.xlabel('False Positive Rate')\n",
    "plt.ylabel('True Positive Rate')\n",
    "plt.title('ROC Curves')\n",
    "plt.legend()\n",
    "plt.grid(True)\n",
    "plt.show()"
   ]
  },
  {
   "cell_type": "code",
   "execution_count": null,
   "id": "06965976-56b4-48d5-9803-df3d26caf958",
   "metadata": {},
   "outputs": [],
   "source": []
  }
 ],
 "metadata": {
  "kernelspec": {
   "display_name": "Python 3 (ipykernel)",
   "language": "python",
   "name": "python3"
  },
  "language_info": {
   "codemirror_mode": {
    "name": "ipython",
    "version": 3
   },
   "file_extension": ".py",
   "mimetype": "text/x-python",
   "name": "python",
   "nbconvert_exporter": "python",
   "pygments_lexer": "ipython3",
   "version": "3.12.5"
  }
 },
 "nbformat": 4,
 "nbformat_minor": 5
}
