{
 "cells": [
  {
   "cell_type": "code",
   "execution_count": 5,
   "id": "d3b6abf7-bcb5-40c2-99b9-06138f259075",
   "metadata": {},
   "outputs": [
    {
     "name": "stdout",
     "output_type": "stream",
     "text": [
      "   EmployeeID  Age      Gender    Country            JobRole Department  \\\n",
      "0        1001   50        Male         UK    Sales Associate         HR   \n",
      "1        1002   36        Male    Germany  Software Engineer         IT   \n",
      "2        1003   29  Non-binary      India           IT Admin         IT   \n",
      "3        1004   42        Male  Australia      HR Specialist         IT   \n",
      "4        1005   40        Male     Brazil   Customer Support    Support   \n",
      "\n",
      "   YearsAtCompany  WorkHoursPerWeek RemoteWork  BurnoutLevel  ...  \\\n",
      "0              14                47         No          3.37  ...   \n",
      "1               1                59     Hybrid          7.39  ...   \n",
      "2              13                59     Hybrid          7.10  ...   \n",
      "3              15                31        Yes          4.18  ...   \n",
      "4               6                34        Yes          8.28  ...   \n",
      "\n",
      "   CommuteTime  HasMentalHealthSupport  ManagerSupportScore  HasTherapyAccess  \\\n",
      "0          117                      No                 3.15               Yes   \n",
      "1            8                     Yes                 4.40               Yes   \n",
      "2           75                      No                 3.63                No   \n",
      "3           43                     Yes                 4.50               Yes   \n",
      "4           58                     Yes                 5.51               Yes   \n",
      "\n",
      "   MentalHealthDaysOff  SalaryRange WorkLifeBalanceScore  TeamSize  \\\n",
      "0                    8      40K-60K                 8.82         6   \n",
      "1                    4     80K-100K                 2.80        45   \n",
      "2                    6     80K-100K                 7.28         7   \n",
      "3                    9      60K-80K                 1.31        11   \n",
      "4                    6         <40K                 1.17        18   \n",
      "\n",
      "  CareerGrowthScore  BurnoutRisk  \n",
      "0              9.20            0  \n",
      "1              8.46            1  \n",
      "2              7.96            1  \n",
      "3              8.90            0  \n",
      "4              8.88            1  \n",
      "\n",
      "[5 rows x 25 columns]\n"
     ]
    }
   ],
   "source": [
    "import pandas as pd\n",
    "import numpy as np\n",
    "\n",
    "from sklearn.model_selection import train_test_split\n",
    "from sklearn.preprocessing import StandardScaler, OneHotEncoder\n",
    "from sklearn.compose import ColumnTransformer\n",
    "from sklearn.linear_model import LinearRegression, Ridge, Lasso\n",
    "from sklearn.metrics import mean_squared_error, r2_score\n",
    "from sklearn.feature_selection import mutual_info_regression\n",
    "\n",
    "# Load data\n",
    "df = pd.read_csv(r\"C:\\Users\\sreek\\OneDrive\\Desktop\\ACM\\mental_health_workplace_survey.csv\")\n",
    "\n",
    "# Display first few rows\n",
    "print(df.head())\n",
    "\n",
    "# Drop rows with missing target\n",
    "df = df.dropna(subset=[\"StressLevel\"])\n",
    "\n",
    "# Drop rows with other missing values for simplicity\n",
    "df = df.dropna()\n"
   ]
  },
  {
   "cell_type": "code",
   "execution_count": 6,
   "id": "f8b0508c-3ee3-430f-80cf-3756389fcc5b",
   "metadata": {},
   "outputs": [],
   "source": [
    "# Set target\n",
    "target = \"StressLevel\"\n",
    "\n",
    "# Identify categorical and numerical columns\n",
    "categorical_cols = df.select_dtypes(include='object').columns.tolist()\n",
    "numerical_cols = df.select_dtypes(include=['int64', 'float64']).columns.tolist()\n",
    "\n",
    "# Remove target from numerical list if it's there\n",
    "if target in numerical_cols:\n",
    "    numerical_cols.remove(target)\n"
   ]
  },
  {
   "cell_type": "code",
   "execution_count": 12,
   "id": "658bb6ee-244c-4e4a-ae1d-8ad8d87755f0",
   "metadata": {},
   "outputs": [],
   "source": [
    "# Basic check for needed columns before interaction\n",
    "required_cols = ['WorkHoursPerWeek', 'SleepHours', 'StressLevel']\n",
    "for col in required_cols:\n",
    "    if col not in df.columns:\n",
    "        raise ValueError(f\"Missing expected column: {col}\")\n",
    "\n",
    "# Create interaction features\n",
    "df['Work_Sleep_Interaction'] = df['WorkHoursPerWeek'] * df['SleepHours']\n",
    "df['Stress_Sleep'] = df['StressLevel'] * df['SleepHours']\n"
   ]
  },
  {
   "cell_type": "code",
   "execution_count": 13,
   "id": "5a53d22f-0e20-4038-a3b7-6a80ce14940f",
   "metadata": {},
   "outputs": [],
   "source": [
    "# Add interaction features to numerical list\n",
    "feature_candidates = numerical_cols + ['Work_Sleep_Interaction', 'Stress_Sleep']\n",
    "X_temp = df[feature_candidates]\n",
    "y = df[target]\n",
    "\n",
    "# Compute mutual information scores\n",
    "mi_scores = mutual_info_regression(X_temp, y)\n",
    "mi_series = pd.Series(mi_scores, index=X_temp.columns).sort_values(ascending=False)\n",
    "\n",
    "# Select top 5 features\n",
    "top_features = mi_series.head(5).index.tolist()\n",
    "X = df[top_features]\n"
   ]
  },
  {
   "cell_type": "code",
   "execution_count": 14,
   "id": "ad82f1a3-dbd5-45b5-b19d-f72253600b21",
   "metadata": {},
   "outputs": [],
   "source": [
    "# Train-test split\n",
    "X_train, X_test, y_train, y_test = train_test_split(X, y, test_size=0.2, random_state=42)\n",
    "\n",
    "# Scale features\n",
    "scaler = StandardScaler()\n",
    "X_train_scaled = scaler.fit_transform(X_train)\n",
    "X_test_scaled = scaler.transform(X_test)\n"
   ]
  },
  {
   "cell_type": "code",
   "execution_count": 15,
   "id": "54f844ae-2725-4268-9155-497984375e22",
   "metadata": {},
   "outputs": [],
   "source": [
    "# Define models\n",
    "models = {\n",
    "    \"Linear Regression\": LinearRegression(),\n",
    "    \"Ridge Regression\": Ridge(alpha=1.0),\n",
    "    \"Lasso Regression\": Lasso(alpha=0.1)\n",
    "}\n",
    "\n",
    "# Store results\n",
    "results = {}\n",
    "\n",
    "# Train and evaluate\n",
    "for name, model in models.items():\n",
    "    model.fit(X_train_scaled, y_train)\n",
    "    y_pred = model.predict(X_test_scaled)\n",
    "    mse = mean_squared_error(y_test, y_pred)\n",
    "    r2 = r2_score(y_test, y_pred)\n",
    "    results[name] = {'MSE': mse, 'R2': r2}\n"
   ]
  },
  {
   "cell_type": "code",
   "execution_count": 16,
   "id": "8606c88a-33e6-45f6-979a-47766457639c",
   "metadata": {},
   "outputs": [
    {
     "name": "stdout",
     "output_type": "stream",
     "text": [
      "Linear Regression:\n",
      "  MSE: 0.3109\n",
      "  R²: 0.9531\n",
      "\n",
      "Ridge Regression:\n",
      "  MSE: 0.3110\n",
      "  R²: 0.9530\n",
      "\n",
      "Lasso Regression:\n",
      "  MSE: 0.3573\n",
      "  R²: 0.9460\n",
      "\n",
      "✅ Best Model: Linear Regression with R² = 0.9531\n"
     ]
    }
   ],
   "source": [
    "# Print performance\n",
    "for model, scores in results.items():\n",
    "    print(f\"{model}:\")\n",
    "    print(f\"  MSE: {scores['MSE']:.4f}\")\n",
    "    print(f\"  R²: {scores['R2']:.4f}\\n\")\n",
    "\n",
    "# Determine best model\n",
    "best_model = max(results.items(), key=lambda x: x[1]['R2'])\n",
    "print(f\"✅ Best Model: {best_model[0]} with R² = {best_model[1]['R2']:.4f}\")\n"
   ]
  },
  {
   "cell_type": "code",
   "execution_count": null,
   "id": "3b99d965-c2ed-4e97-886e-f4a6015da7f4",
   "metadata": {},
   "outputs": [],
   "source": []
  }
 ],
 "metadata": {
  "kernelspec": {
   "display_name": "Python 3 (ipykernel)",
   "language": "python",
   "name": "python3"
  },
  "language_info": {
   "codemirror_mode": {
    "name": "ipython",
    "version": 3
   },
   "file_extension": ".py",
   "mimetype": "text/x-python",
   "name": "python",
   "nbconvert_exporter": "python",
   "pygments_lexer": "ipython3",
   "version": "3.12.5"
  }
 },
 "nbformat": 4,
 "nbformat_minor": 5
}
