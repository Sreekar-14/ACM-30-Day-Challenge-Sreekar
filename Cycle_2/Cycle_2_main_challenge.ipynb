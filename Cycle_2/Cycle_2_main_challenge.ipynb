{
 "cells": [
  {
   "cell_type": "markdown",
   "id": "f45aea51-2010-415d-b259-87edd397607b",
   "metadata": {},
   "source": [
    "# Loading the dataset"
   ]
  },
  {
   "cell_type": "code",
   "execution_count": 1,
   "id": "1aaae43f-353e-4d66-9fe2-42ec10696345",
   "metadata": {},
   "outputs": [
    {
     "name": "stdout",
     "output_type": "stream",
     "text": [
      "                                                     text  \\\n",
      "541200             @chrishasboobs AHHH I HOPE YOUR OK!!!    \n",
      "750     @misstoriblack cool , i have no tweet apps  fo...   \n",
      "766711  @TiannaChaos i know  just family drama. its la...   \n",
      "285055  School email won't open  and I have geography ...   \n",
      "705995                             upper airways problem    \n",
      "\n",
      "                                               clean_text  \n",
      "541200                                ahhh i hope your ok  \n",
      "750             cool  i have no tweet apps  for my razr 2  \n",
      "766711  i know  just family drama its lamehey next tim...  \n",
      "285055  school email wont open  and i have geography s...  \n",
      "705995                              upper airways problem  \n"
     ]
    }
   ],
   "source": [
    "import pandas as pd\n",
    "import re\n",
    "from sklearn.feature_extraction.text import TfidfVectorizer\n",
    "from sklearn.model_selection import train_test_split\n",
    "from sklearn.linear_model import LogisticRegression\n",
    "from sklearn.metrics import classification_report, confusion_matrix, accuracy_score\n",
    "import seaborn as sns\n",
    "import matplotlib.pyplot as plt\n",
    "\n",
    "columns = ['sentiment', 'id', 'date', 'query', 'user', 'text']\n",
    "df = pd.read_csv(r\"C:\\Users\\sreek\\OneDrive\\Desktop\\ACM\\training.1600000.processed.noemoticon.csv.zip\", encoding='latin-1', names=columns)\n",
    "\n",
    "df_sample = df.sample(n=50000, random_state=42).copy()\n",
    "\n",
    "def clean_tweet(text):\n",
    "    text = re.sub(r\"http\\S+|www.\\S+\", \"\", text)     # Remove URLs\n",
    "    text = re.sub(r\"@\\w+\", \"\", text)                # Remove mentions\n",
    "    text = re.sub(r\"#\", \"\", text)                   # Remove hashtags but keep word\n",
    "    text = re.sub(r\"[^a-zA-Z0-9\\s]\", \"\", text)      # Remove special characters/emojis\n",
    "    text = text.lower()                             # Lowercase\n",
    "    text = text.strip()                             # Strip spaces\n",
    "    return text\n",
    "\n",
    "df_sample[\"clean_text\"] = df_sample[\"text\"].apply(clean_tweet)\n",
    "print(df_sample[[\"text\", \"clean_text\"]].head())"
   ]
  },
  {
   "cell_type": "markdown",
   "id": "c822ca77-f5eb-4b54-87d1-786b0e75c936",
   "metadata": {},
   "source": [
    "# Map Sentiment Labels"
   ]
  },
  {
   "cell_type": "code",
   "execution_count": 2,
   "id": "eb435416-1755-4f15-b72f-3c16a1b3621b",
   "metadata": {},
   "outputs": [],
   "source": [
    "sentiment_mapping = {0: \"Negative\", 2: \"Neutral\", 4: \"Positive\"}\n",
    "numeric_mapping = {\"Negative\": -1, \"Neutral\": 0, \"Positive\": 1}\n",
    "\n",
    "df_sample[\"label\"] = df_sample[\"sentiment\"].map(sentiment_mapping)\n",
    "df_sample[\"label_num\"] = df_sample[\"label\"].map(numeric_mapping)\n",
    "\n",
    "# Drop rows with unmapped labels (just in case)\n",
    "df_sample.dropna(subset=[\"label_num\"], inplace=True)"
   ]
  },
  {
   "cell_type": "markdown",
   "id": "17e086d6-c5e0-4e2b-86f5-bffe3bcb4b77",
   "metadata": {},
   "source": [
    "# TF-IDF Feature Extraction"
   ]
  },
  {
   "cell_type": "code",
   "execution_count": 3,
   "id": "5508a069-0a36-47d2-b2be-65b99314ec69",
   "metadata": {},
   "outputs": [],
   "source": [
    "tfidf = TfidfVectorizer(max_features=5000)\n",
    "X = tfidf.fit_transform(df_sample[\"clean_text\"])\n",
    "y = df_sample[\"label_num\"]\n"
   ]
  },
  {
   "cell_type": "markdown",
   "id": "ca17f961-cb96-4eb2-9ab5-a89edb800dec",
   "metadata": {},
   "source": [
    "# Logistic Regression"
   ]
  },
  {
   "cell_type": "code",
   "execution_count": 4,
   "id": "ccb5b381-0f94-4b89-8f6b-7995d9ce1e25",
   "metadata": {},
   "outputs": [],
   "source": [
    "# === Step 7: Split into Train and Test Sets ===\n",
    "X_train, X_test, y_train, y_test = train_test_split(X, y, test_size=0.2, random_state=42)\n",
    "\n",
    "# === Step 8: Train Model (Logistic Regression) ===\n",
    "model = LogisticRegression(max_iter=1000)\n",
    "model.fit(X_train, y_train)\n",
    "\n",
    "# === Step 9: Predict and Evaluate ===\n",
    "y_pred = model.predict(X_test)"
   ]
  },
  {
   "cell_type": "markdown",
   "id": "28b66241-7271-46ba-8c52-29a3a0c662c8",
   "metadata": {},
   "source": [
    "# Accuracy and Confusion Matrix Visualization:"
   ]
  },
  {
   "cell_type": "code",
   "execution_count": 6,
   "id": "8c43b1c1-cf49-4b98-8245-47efa114212f",
   "metadata": {},
   "outputs": [
    {
     "name": "stdout",
     "output_type": "stream",
     "text": [
      "\n",
      "Accuracy: 0.7685\n",
      "\n",
      "Classification Report:\n",
      "              precision    recall  f1-score   support\n",
      "\n",
      "    Negative       0.77      0.76      0.76      4977\n",
      "    Positive       0.76      0.78      0.77      5023\n",
      "\n",
      "    accuracy                           0.77     10000\n",
      "   macro avg       0.77      0.77      0.77     10000\n",
      "weighted avg       0.77      0.77      0.77     10000\n",
      "\n"
     ]
    },
    {
     "data": {
      "image/png": "[encoded data removed]",
      "text/plain": [
       "<Figure size 600x400 with 2 Axes>"
      ]
     },
     "metadata": {},
     "output_type": "display_data"
    }
   ],
   "source": [
    "accuracy = accuracy_score(y_test, y_pred)\n",
    "print(f\"\\nAccuracy: {accuracy:.4f}\")\n",
    "\n",
    "# Classification Report\n",
    "print(\"\\nClassification Report:\")\n",
    "from sklearn.utils.multiclass import unique_labels\n",
    "\n",
    "# Get actual labels present in the test set\n",
    "labels = sorted(unique_labels(y_test, y_pred))\n",
    "name_map = {-1: \"Negative\", 0: \"Neutral\", 1: \"Positive\"}\n",
    "target_names = [name_map[label] for label in labels]\n",
    "\n",
    "print(classification_report(y_test, y_pred, labels=labels, target_names=target_names))\n",
    "\n",
    "# Confusion Matrix\n",
    "cm = confusion_matrix(y_test, y_pred)\n",
    "plt.figure(figsize=(6, 4))\n",
    "sns.heatmap(cm, annot=True, fmt='d', cmap='Blues',\n",
    "            xticklabels=[\"Negative\", \"Neutral\", \"Positive\"],\n",
    "            yticklabels=[\"Negative\", \"Neutral\", \"Positive\"])\n",
    "plt.xlabel('Predicted')\n",
    "plt.ylabel('Actual')\n",
    "plt.title('Confusion Matrix')\n",
    "plt.tight_layout()\n",
    "plt.show()"
   ]
  },
  {
   "cell_type": "markdown",
   "id": "11ced0a2-f48b-4705-a728-f189bccbdb15",
   "metadata": {},
   "source": [
    "## Model Chosen:\n",
    "### Logistic Regression, because it's efficient and works well for large text datasets.\n",
    "\n",
    "## How TF-IDF Helped:\n",
    "### TF-IDF helped extract the most important words from tweets and turned them into numerical values that the model can understand.\n",
    "\n",
    "## Challenges Faced:\n",
    "### 1.Dataset had no headers, so manual column naming was needed.\n",
    "### 2.Text cleaning was essential to remove noise like URLs and mentions.\n",
    "### 3.Balancing accuracy and performance with a large dataset required reducing features (using top 5000 words)."
   ]
  },
  {
   "cell_type": "code",
   "execution_count": null,
   "id": "ad6524fd-f1ad-4565-b776-a20f41660563",
   "metadata": {},
   "outputs": [],
   "source": []
  }
 ],
 "metadata": {
  "kernelspec": {
   "display_name": "Python 3 (ipykernel)",
   "language": "python",
   "name": "python3"
  },
  "language_info": {
   "codemirror_mode": {
    "name": "ipython",
    "version": 3
   },
   "file_extension": ".py",
   "mimetype": "text/x-python",
   "name": "python",
   "nbconvert_exporter": "python",
   "pygments_lexer": "ipython3",
   "version": "3.12.5"
  }
 },
 "nbformat": 4,
 "nbformat_minor": 5
}
